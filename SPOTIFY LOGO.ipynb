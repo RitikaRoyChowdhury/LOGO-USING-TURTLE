{
 "cells": [
  {
   "cell_type": "code",
   "execution_count": 1,
   "id": "301774c6",
   "metadata": {},
   "outputs": [],
   "source": [
    "import turtle as t\n",
    "t.Screen().bgcolor(\"Black\")\n",
    "t.speed(15)\n",
    "t.begin_fill()\n",
    "t.fillcolor('#1DB954')\n",
    "t.pencolor(\"#1DB954\")\n",
    "t.pensize(0)\n",
    "t.circle(100)\n",
    "t.end_fill()\n",
    "t.penup()\n",
    "t.goto(40,50)\n",
    "t.pendown()\n",
    "t.left(150)\n",
    "t.forward(0)\n",
    "t.pensize(15)\n",
    "t.pencolor('black')\n",
    "t.circle(80,60)\n",
    "t.penup()\n",
    "\n",
    "t.goto(50,85)\n",
    "t.pendown()\n",
    "t.pensize(17)\n",
    "t.right(60)\n",
    "t.forward(0)\n",
    "t.circle(100,60)\n",
    "\n",
    "t.penup()\n",
    "t.goto(60,120)\n",
    "t.pendown()\n",
    "t.pensize(20)\n",
    "t.right(60)\n",
    "t.forward(0)\n",
    "t.circle(120,60)\n",
    "\n",
    "t.penup()\n",
    "t.goto(130, 55)\n",
    "t.pendown()\n",
    "t.color(\"#1DB954\")\n",
    "t.write(\"Spotify\", font=(\"Arial\", 60, \"bold\"))\n",
    "\n",
    "t.done()"
   ]
  }
 ],
 "metadata": {
  "kernelspec": {
   "display_name": "Python 3 (ipykernel)",
   "language": "python",
   "name": "python3"
  },
  "language_info": {
   "codemirror_mode": {
    "name": "ipython",
    "version": 3
   },
   "file_extension": ".py",
   "mimetype": "text/x-python",
   "name": "python",
   "nbconvert_exporter": "python",
   "pygments_lexer": "ipython3",
   "version": "3.9.7"
  }
 },
 "nbformat": 4,
 "nbformat_minor": 5
}
