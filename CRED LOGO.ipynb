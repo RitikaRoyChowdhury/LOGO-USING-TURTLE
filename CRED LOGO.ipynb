{
 "cells": [
  {
   "cell_type": "code",
   "execution_count": 1,
   "id": "ba7469ba",
   "metadata": {},
   "outputs": [],
   "source": [
    "import turtle\n",
    "turtle.Screen().bgcolor(\"black\")\n",
    "t=turtle.Turtle()\n",
    "t.goto(-166,100)\n",
    "t.width(5)\n",
    "t.color(\"white\")\n",
    "t.forward(256)\n",
    "t.right(90)\n",
    "t.forward(220)\n",
    "t.right(60)\n",
    "t.forward(150)\n",
    "t.right(60)\n",
    "t.forward(150)\n",
    "t.right(60)\n",
    "t.forward(220)\n",
    "\n",
    "t.penup()\n",
    "t.goto(-86,50)\n",
    "t.pendown()\n",
    "t.right(90)\n",
    "t.forward(136)\n",
    "t.right(90)\n",
    "t.forward(60)\n",
    "t.color(\"black\")\n",
    "t.forward(40)\n",
    "t.color(\"white\")\n",
    "t.forward(40)\n",
    "t.right(60)\n",
    "\n",
    "t.forward(104)\n",
    "t.right(60)\n",
    "t.forward(104)\n",
    "t.right(60)\n",
    "t.forward(106)\n",
    "t.right(90)\n",
    "t.forward(130)\n",
    " \n",
    "\n",
    "t.penup()\n",
    "t.goto(10,-75)\n",
    "t.pendown()\n",
    "t.right(150)\n",
    "t.forward(57)\n",
    "t.right(60)\n",
    "t.forward(57)\n",
    "t.right(60)\n",
    "t.forward(30)\n",
    "t.penup()\n",
    "t.goto(-163,-300)\n",
    "t.pendown()\n",
    "\n",
    "\n",
    "t.write(\"CRED\",font=(\"Sentic\",65,\"normal\"))\n",
    "\n",
    "turtle.done()"
   ]
  }
 ],
 "metadata": {
  "kernelspec": {
   "display_name": "Python 3 (ipykernel)",
   "language": "python",
   "name": "python3"
  },
  "language_info": {
   "codemirror_mode": {
    "name": "ipython",
    "version": 3
   },
   "file_extension": ".py",
   "mimetype": "text/x-python",
   "name": "python",
   "nbconvert_exporter": "python",
   "pygments_lexer": "ipython3",
   "version": "3.9.7"
  }
 },
 "nbformat": 4,
 "nbformat_minor": 5
}
