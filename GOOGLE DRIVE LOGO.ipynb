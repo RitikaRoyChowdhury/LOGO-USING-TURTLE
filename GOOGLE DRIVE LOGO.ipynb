{
 "cells": [
  {
   "cell_type": "code",
   "execution_count": 1,
   "id": "db561dbc",
   "metadata": {},
   "outputs": [],
   "source": [
    "import turtle as t\n",
    "\n",
    "t.hideturtle()\n",
    "t.Screen().bgcolor(\"Black\")\n",
    "t.pencolor(\"white\")\n",
    "t.pensize(0)\n",
    "#blue\n",
    "t.begin_fill()\n",
    "t.fillcolor('#4688F4')\n",
    "t.forward(170)\n",
    "t.left(60)\n",
    "t.forward(50)\n",
    "t.left(120)\n",
    "t.forward(220)\n",
    "t.left(120)\n",
    "t.forward(50)\n",
    "t.end_fill()\n",
    "\n",
    "#green\n",
    "t.begin_fill()\n",
    "t.fillcolor('#1FA463')\n",
    "t.left(120)\n",
    "t.forward(200)\n",
    "t.left(120)\n",
    "t.forward(50)\n",
    "t.left(60)\n",
    "t.forward(150)\n",
    "t.left(60)\n",
    "t.forward(50)\n",
    "t.end_fill()\n",
    "\n",
    "t.penup()\n",
    "t.left(120)\n",
    "t.forward(200)\n",
    "t.left(120)\n",
    "t.forward(50)\n",
    "t.pendown()\n",
    "\n",
    "\n",
    "#yellow\n",
    "t.begin_fill()\n",
    "t.fillcolor('#FFD048')\n",
    "t.left(125)\n",
    "t.forward(160)\n",
    "t.left(55)\n",
    "t.forward(53)\n",
    "t.left(126)\n",
    "t.forward(163)\n",
    "t.end_fill()\n",
    "t.done()\n"
   ]
  }
 ],
 "metadata": {
  "kernelspec": {
   "display_name": "Python 3 (ipykernel)",
   "language": "python",
   "name": "python3"
  },
  "language_info": {
   "codemirror_mode": {
    "name": "ipython",
    "version": 3
   },
   "file_extension": ".py",
   "mimetype": "text/x-python",
   "name": "python",
   "nbconvert_exporter": "python",
   "pygments_lexer": "ipython3",
   "version": "3.9.7"
  }
 },
 "nbformat": 4,
 "nbformat_minor": 5
}
